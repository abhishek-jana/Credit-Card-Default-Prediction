{
 "cells": [
  {
   "cell_type": "code",
   "execution_count": 1,
   "metadata": {},
   "outputs": [],
   "source": [
    "import pandas as pd\n",
    "import yaml\n",
    "from credit_default.utils import read_yaml_file\n",
    "import os"
   ]
  },
  {
   "cell_type": "code",
   "execution_count": 4,
   "metadata": {},
   "outputs": [
    {
     "data": {
      "text/html": [
       "<div>\n",
       "<style scoped>\n",
       "    .dataframe tbody tr th:only-of-type {\n",
       "        vertical-align: middle;\n",
       "    }\n",
       "\n",
       "    .dataframe tbody tr th {\n",
       "        vertical-align: top;\n",
       "    }\n",
       "\n",
       "    .dataframe thead th {\n",
       "        text-align: right;\n",
       "    }\n",
       "</style>\n",
       "<table border=\"1\" class=\"dataframe\">\n",
       "  <thead>\n",
       "    <tr style=\"text-align: right;\">\n",
       "      <th></th>\n",
       "      <th>ID</th>\n",
       "      <th>LIMIT_BAL</th>\n",
       "      <th>SEX</th>\n",
       "      <th>EDUCATION</th>\n",
       "      <th>MARRIAGE</th>\n",
       "      <th>AGE</th>\n",
       "      <th>PAY_0</th>\n",
       "      <th>PAY_2</th>\n",
       "      <th>PAY_3</th>\n",
       "      <th>PAY_4</th>\n",
       "      <th>...</th>\n",
       "      <th>BILL_AMT4</th>\n",
       "      <th>BILL_AMT5</th>\n",
       "      <th>BILL_AMT6</th>\n",
       "      <th>PAY_AMT1</th>\n",
       "      <th>PAY_AMT2</th>\n",
       "      <th>PAY_AMT3</th>\n",
       "      <th>PAY_AMT4</th>\n",
       "      <th>PAY_AMT5</th>\n",
       "      <th>PAY_AMT6</th>\n",
       "      <th>default.payment.next.month</th>\n",
       "    </tr>\n",
       "  </thead>\n",
       "  <tbody>\n",
       "    <tr>\n",
       "      <th>0</th>\n",
       "      <td>1</td>\n",
       "      <td>20000.0</td>\n",
       "      <td>2</td>\n",
       "      <td>2</td>\n",
       "      <td>1</td>\n",
       "      <td>24</td>\n",
       "      <td>2</td>\n",
       "      <td>2</td>\n",
       "      <td>-1</td>\n",
       "      <td>-1</td>\n",
       "      <td>...</td>\n",
       "      <td>0.0</td>\n",
       "      <td>0.0</td>\n",
       "      <td>0.0</td>\n",
       "      <td>0.0</td>\n",
       "      <td>689.0</td>\n",
       "      <td>0.0</td>\n",
       "      <td>0.0</td>\n",
       "      <td>0.0</td>\n",
       "      <td>0.0</td>\n",
       "      <td>1</td>\n",
       "    </tr>\n",
       "    <tr>\n",
       "      <th>1</th>\n",
       "      <td>2</td>\n",
       "      <td>120000.0</td>\n",
       "      <td>2</td>\n",
       "      <td>2</td>\n",
       "      <td>2</td>\n",
       "      <td>26</td>\n",
       "      <td>-1</td>\n",
       "      <td>2</td>\n",
       "      <td>0</td>\n",
       "      <td>0</td>\n",
       "      <td>...</td>\n",
       "      <td>3272.0</td>\n",
       "      <td>3455.0</td>\n",
       "      <td>3261.0</td>\n",
       "      <td>0.0</td>\n",
       "      <td>1000.0</td>\n",
       "      <td>1000.0</td>\n",
       "      <td>1000.0</td>\n",
       "      <td>0.0</td>\n",
       "      <td>2000.0</td>\n",
       "      <td>1</td>\n",
       "    </tr>\n",
       "    <tr>\n",
       "      <th>2</th>\n",
       "      <td>3</td>\n",
       "      <td>90000.0</td>\n",
       "      <td>2</td>\n",
       "      <td>2</td>\n",
       "      <td>2</td>\n",
       "      <td>34</td>\n",
       "      <td>0</td>\n",
       "      <td>0</td>\n",
       "      <td>0</td>\n",
       "      <td>0</td>\n",
       "      <td>...</td>\n",
       "      <td>14331.0</td>\n",
       "      <td>14948.0</td>\n",
       "      <td>15549.0</td>\n",
       "      <td>1518.0</td>\n",
       "      <td>1500.0</td>\n",
       "      <td>1000.0</td>\n",
       "      <td>1000.0</td>\n",
       "      <td>1000.0</td>\n",
       "      <td>5000.0</td>\n",
       "      <td>0</td>\n",
       "    </tr>\n",
       "    <tr>\n",
       "      <th>3</th>\n",
       "      <td>4</td>\n",
       "      <td>50000.0</td>\n",
       "      <td>2</td>\n",
       "      <td>2</td>\n",
       "      <td>1</td>\n",
       "      <td>37</td>\n",
       "      <td>0</td>\n",
       "      <td>0</td>\n",
       "      <td>0</td>\n",
       "      <td>0</td>\n",
       "      <td>...</td>\n",
       "      <td>28314.0</td>\n",
       "      <td>28959.0</td>\n",
       "      <td>29547.0</td>\n",
       "      <td>2000.0</td>\n",
       "      <td>2019.0</td>\n",
       "      <td>1200.0</td>\n",
       "      <td>1100.0</td>\n",
       "      <td>1069.0</td>\n",
       "      <td>1000.0</td>\n",
       "      <td>0</td>\n",
       "    </tr>\n",
       "    <tr>\n",
       "      <th>4</th>\n",
       "      <td>5</td>\n",
       "      <td>50000.0</td>\n",
       "      <td>1</td>\n",
       "      <td>2</td>\n",
       "      <td>1</td>\n",
       "      <td>57</td>\n",
       "      <td>-1</td>\n",
       "      <td>0</td>\n",
       "      <td>-1</td>\n",
       "      <td>0</td>\n",
       "      <td>...</td>\n",
       "      <td>20940.0</td>\n",
       "      <td>19146.0</td>\n",
       "      <td>19131.0</td>\n",
       "      <td>2000.0</td>\n",
       "      <td>36681.0</td>\n",
       "      <td>10000.0</td>\n",
       "      <td>9000.0</td>\n",
       "      <td>689.0</td>\n",
       "      <td>679.0</td>\n",
       "      <td>0</td>\n",
       "    </tr>\n",
       "  </tbody>\n",
       "</table>\n",
       "<p>5 rows × 25 columns</p>\n",
       "</div>"
      ],
      "text/plain": [
       "   ID  LIMIT_BAL  SEX  EDUCATION  MARRIAGE  AGE  PAY_0  PAY_2  PAY_3  PAY_4  \\\n",
       "0   1    20000.0    2          2         1   24      2      2     -1     -1   \n",
       "1   2   120000.0    2          2         2   26     -1      2      0      0   \n",
       "2   3    90000.0    2          2         2   34      0      0      0      0   \n",
       "3   4    50000.0    2          2         1   37      0      0      0      0   \n",
       "4   5    50000.0    1          2         1   57     -1      0     -1      0   \n",
       "\n",
       "   ...  BILL_AMT4  BILL_AMT5  BILL_AMT6  PAY_AMT1  PAY_AMT2  PAY_AMT3  \\\n",
       "0  ...        0.0        0.0        0.0       0.0     689.0       0.0   \n",
       "1  ...     3272.0     3455.0     3261.0       0.0    1000.0    1000.0   \n",
       "2  ...    14331.0    14948.0    15549.0    1518.0    1500.0    1000.0   \n",
       "3  ...    28314.0    28959.0    29547.0    2000.0    2019.0    1200.0   \n",
       "4  ...    20940.0    19146.0    19131.0    2000.0   36681.0   10000.0   \n",
       "\n",
       "   PAY_AMT4  PAY_AMT5  PAY_AMT6  default.payment.next.month  \n",
       "0       0.0       0.0       0.0                           1  \n",
       "1    1000.0       0.0    2000.0                           1  \n",
       "2    1000.0    1000.0    5000.0                           0  \n",
       "3    1100.0    1069.0    1000.0                           0  \n",
       "4    9000.0     689.0     679.0                           0  \n",
       "\n",
       "[5 rows x 25 columns]"
      ]
     },
     "execution_count": 4,
     "metadata": {},
     "output_type": "execute_result"
    }
   ],
   "source": [
    "df = pd.read_csv(\"/home/ajana/Code/MLProjects/credit_default/artifact/12_26_2023_01_56_22/data_ingestion/feature_store/UCI_Credit_Card.csv\")\n",
    "df.head()"
   ]
  },
  {
   "cell_type": "code",
   "execution_count": 15,
   "metadata": {},
   "outputs": [
    {
     "data": {
      "text/plain": [
       "(30000, 25)"
      ]
     },
     "execution_count": 15,
     "metadata": {},
     "output_type": "execute_result"
    }
   ],
   "source": [
    "df.shape"
   ]
  },
  {
   "cell_type": "code",
   "execution_count": 16,
   "metadata": {},
   "outputs": [
    {
     "name": "stdout",
     "output_type": "stream",
     "text": [
      "['SEX', 'EDUCATION', 'MARRIAGE', 'PAY_5', 'PAY_6', 'default.payment.next.month']\n"
     ]
    }
   ],
   "source": [
    "\n"
   ]
  },
  {
   "cell_type": "code",
   "execution_count": 5,
   "metadata": {},
   "outputs": [],
   "source": [
    "# Get column names and types as a dictionary\n",
    "column_info = [{col: str(df[col].dtype)} for col in df.columns]"
   ]
  },
  {
   "cell_type": "code",
   "execution_count": 6,
   "metadata": {},
   "outputs": [
    {
     "data": {
      "text/plain": [
       "{'columns': [{'ID': 'int64'},\n",
       "  {'LIMIT_BAL': 'float64'},\n",
       "  {'SEX': 'int64'},\n",
       "  {'EDUCATION': 'int64'},\n",
       "  {'MARRIAGE': 'int64'},\n",
       "  {'AGE': 'int64'},\n",
       "  {'PAY_0': 'int64'},\n",
       "  {'PAY_2': 'int64'},\n",
       "  {'PAY_3': 'int64'},\n",
       "  {'PAY_4': 'int64'},\n",
       "  {'PAY_5': 'int64'},\n",
       "  {'PAY_6': 'int64'},\n",
       "  {'BILL_AMT1': 'float64'},\n",
       "  {'BILL_AMT2': 'float64'},\n",
       "  {'BILL_AMT3': 'float64'},\n",
       "  {'BILL_AMT4': 'float64'},\n",
       "  {'BILL_AMT5': 'float64'},\n",
       "  {'BILL_AMT6': 'float64'},\n",
       "  {'PAY_AMT1': 'float64'},\n",
       "  {'PAY_AMT2': 'float64'},\n",
       "  {'PAY_AMT3': 'float64'},\n",
       "  {'PAY_AMT4': 'float64'},\n",
       "  {'PAY_AMT5': 'float64'},\n",
       "  {'PAY_AMT6': 'float64'},\n",
       "  {'default.payment.next.month': 'int64'}]}"
      ]
     },
     "execution_count": 6,
     "metadata": {},
     "output_type": "execute_result"
    }
   ],
   "source": [
    "# Convert to a dictionary with a \"columns\" key\n",
    "col_yaml_data = {'columns': column_info}\n",
    "col_yaml_data"
   ]
  },
  {
   "cell_type": "code",
   "execution_count": 29,
   "metadata": {},
   "outputs": [
    {
     "name": "stdout",
     "output_type": "stream",
     "text": [
      "ID 30000\n",
      "LIMIT_BAL 81\n",
      "SEX 2\n",
      "EDUCATION 7\n",
      "MARRIAGE 4\n",
      "AGE 56\n",
      "PAY_0 11\n",
      "PAY_2 11\n",
      "PAY_3 11\n",
      "PAY_4 11\n",
      "PAY_5 10\n",
      "PAY_6 10\n",
      "BILL_AMT1 22723\n",
      "BILL_AMT2 22346\n",
      "BILL_AMT3 22026\n",
      "BILL_AMT4 21548\n",
      "BILL_AMT5 21010\n",
      "BILL_AMT6 20604\n",
      "PAY_AMT1 7943\n",
      "PAY_AMT2 7899\n",
      "PAY_AMT3 7518\n",
      "PAY_AMT4 6937\n",
      "PAY_AMT5 6897\n",
      "PAY_AMT6 6939\n",
      "default.payment.next.month 2\n",
      "['SEX', 'EDUCATION', 'MARRIAGE', 'PAY_0', 'PAY_2', 'PAY_3', 'PAY_4', 'PAY_5', 'PAY_6', 'default.payment.next.month']\n"
     ]
    }
   ],
   "source": [
    "cat_columns = []\n",
    "threshold = 12  # Set the threshold for the number of unique values\n",
    "\n",
    "for column in df.columns:\n",
    "    unique_values = df[column].nunique()\n",
    "    print (column, unique_values)\n",
    "    if unique_values <= threshold:\n",
    "        cat_columns.append(column)\n",
    "\n",
    "print(cat_columns)"
   ]
  },
  {
   "cell_type": "code",
   "execution_count": 22,
   "metadata": {},
   "outputs": [],
   "source": [
    "# Filter numerical columns\n",
    "numerical_columns = df.select_dtypes(include=['number']).columns.to_list()\n",
    "numerical_columns = [col for col in numerical_columns if col not in cat_columns]\n",
    "# Convert to a dictionary with a \"numerical_columns\" key\n",
    "num_yaml_data = {'numerical_columns': numerical_columns}\n"
   ]
  },
  {
   "cell_type": "code",
   "execution_count": 17,
   "metadata": {},
   "outputs": [],
   "source": []
  },
  {
   "cell_type": "code",
   "execution_count": 23,
   "metadata": {},
   "outputs": [],
   "source": [
    "target = {'target_column': 'default.payment.next.month'}\n"
   ]
  },
  {
   "cell_type": "code",
   "execution_count": 24,
   "metadata": {},
   "outputs": [
    {
     "data": {
      "text/plain": [
       "{'columns': [{'ID': 'int64'},\n",
       "  {'LIMIT_BAL': 'float64'},\n",
       "  {'SEX': 'int64'},\n",
       "  {'EDUCATION': 'int64'},\n",
       "  {'MARRIAGE': 'int64'},\n",
       "  {'AGE': 'int64'},\n",
       "  {'PAY_0': 'int64'},\n",
       "  {'PAY_2': 'int64'},\n",
       "  {'PAY_3': 'int64'},\n",
       "  {'PAY_4': 'int64'},\n",
       "  {'PAY_5': 'int64'},\n",
       "  {'PAY_6': 'int64'},\n",
       "  {'BILL_AMT1': 'float64'},\n",
       "  {'BILL_AMT2': 'float64'},\n",
       "  {'BILL_AMT3': 'float64'},\n",
       "  {'BILL_AMT4': 'float64'},\n",
       "  {'BILL_AMT5': 'float64'},\n",
       "  {'BILL_AMT6': 'float64'},\n",
       "  {'PAY_AMT1': 'float64'},\n",
       "  {'PAY_AMT2': 'float64'},\n",
       "  {'PAY_AMT3': 'float64'},\n",
       "  {'PAY_AMT4': 'float64'},\n",
       "  {'PAY_AMT5': 'float64'},\n",
       "  {'PAY_AMT6': 'float64'},\n",
       "  {'default.payment.next.month': 'int64'}]}"
      ]
     },
     "execution_count": 24,
     "metadata": {},
     "output_type": "execute_result"
    }
   ],
   "source": [
    "col_yaml_data"
   ]
  },
  {
   "cell_type": "code",
   "execution_count": 25,
   "metadata": {},
   "outputs": [],
   "source": [
    "yaml_data = {}\n",
    "yaml_data['columns'] = column_info\n",
    "yaml_data['numerical_columns'] = numerical_columns\n",
    "yaml_data['drop_columns'] = 'ID'\n",
    "yaml_data['target_column'] = 'default.payment.next.month'"
   ]
  },
  {
   "cell_type": "code",
   "execution_count": 26,
   "metadata": {},
   "outputs": [],
   "source": [
    "# Save to YAML file\n",
    "with open('/home/ajana/Code/MLProjects/credit_default/config/schema.yaml', 'w') as file:\n",
    "    yaml.dump(yaml_data, file, default_flow_style=False, sort_keys=False)"
   ]
  },
  {
   "cell_type": "code",
   "execution_count": 27,
   "metadata": {},
   "outputs": [],
   "source": [
    "SCHEMA_FILE_PATH = \"/home/ajana/Code/MLProjects/credit_default/config/schema.yaml\"\n",
    "\n",
    "schema_config = read_yaml_file(file_path=SCHEMA_FILE_PATH)\n"
   ]
  },
  {
   "cell_type": "code",
   "execution_count": 28,
   "metadata": {},
   "outputs": [
    {
     "data": {
      "text/plain": [
       "'default.payment.next.month'"
      ]
     },
     "execution_count": 28,
     "metadata": {},
     "output_type": "execute_result"
    }
   ],
   "source": [
    "schema_config[\"target_column\"]"
   ]
  },
  {
   "cell_type": "code",
   "execution_count": null,
   "metadata": {},
   "outputs": [],
   "source": []
  }
 ],
 "metadata": {
  "kernelspec": {
   "display_name": ".venv",
   "language": "python",
   "name": "python3"
  },
  "language_info": {
   "codemirror_mode": {
    "name": "ipython",
    "version": 3
   },
   "file_extension": ".py",
   "mimetype": "text/x-python",
   "name": "python",
   "nbconvert_exporter": "python",
   "pygments_lexer": "ipython3",
   "version": "3.8.0"
  }
 },
 "nbformat": 4,
 "nbformat_minor": 2
}
